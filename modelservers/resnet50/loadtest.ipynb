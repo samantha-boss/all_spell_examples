{
 "cells": [
  {
   "cell_type": "code",
   "execution_count": null,
   "metadata": {},
   "outputs": [],
   "source": [
    "import matplotlib.pyplot as plt\n",
    "import pandas as pd\n",
    "import seaborn as sns\n",
    "\n",
    "sns.set()\n",
    "sns.set(rc={\"xtick.bottom\" : True, \"ytick.left\" : True})\n",
    "plt.rcParams['axes.facecolor'] = 'ebe8f2'\n",
    "\n",
    "%matplotlib inline\n",
    "\n",
    "color_cycle = plt.rcParams['axes.prop_cycle'].by_key()['color']"
   ]
  },
  {
   "cell_type": "code",
   "execution_count": null,
   "metadata": {},
   "outputs": [],
   "source": [
    "def read(path):\n",
    "    df = pd.read_csv(path)\n",
    "    df = df.sort_values(by=[\"rate\", \"start\"])\n",
    "    df['latency'] = df['latency'] * 1000\n",
    "    return df\n",
    "\n",
    "def latency_scatter(dfs):\n",
    "    \"\"\"Create a scatter plot with all measured latencies\"\"\"\n",
    "    for name, df in dfs.items():\n",
    "        plt.scatter(df['rate'], df['latency'], alpha=0.01, marker='.', label=name)\n",
    "    plt.xlabel(\"Req/s\")\n",
    "    plt.ylabel(\"Latency (s)\")\n",
    "    plt.legend()\n",
    "\n",
    "def quantile_plot(dfs, y_max=400, q_low=0.2, q_high=0.8):\n",
    "    \"\"\"Create a quantile plot with a line for the median and a filled area for a quantile range\"\"\"\n",
    "    f, a = plt.subplots(figsize=(12,8), dpi= 100)\n",
    "    handles = []\n",
    "    names = []\n",
    "    color_iter = iter(color_cycle)\n",
    "    for name, df in dfs.items():\n",
    "        color = next(color_iter)\n",
    "        grouped_latency = df.groupby(\"rate\")[\"latency\"]\n",
    "        q20 = grouped_latency.quantile(q_low)\n",
    "        q50 = grouped_latency.quantile(0.5)\n",
    "        q80 = grouped_latency.quantile(q_high)\n",
    "        fill = a.fill_between(q20.index, q20, q80, alpha=0.2, color=color)\n",
    "        med = a.plot(q50.index, q50, color=color)\n",
    "        dummy_fill = a.fill(np.NaN, np.NaN, alpha=0.2, color=color)\n",
    "        handles.append((med[0], dummy_fill[0]))\n",
    "        names.append(name)\n",
    "    a.set_xlabel(\"Rate (requests/s)\", fontsize=14)\n",
    "    a.set_ylabel(\"Latency (ms)\", fontsize=14)\n",
    "    a.set_ylim([0, y_max])\n",
    "    a.legend(handles, names)\n",
    "    \n",
    "def rate_consistency(dfs):\n",
    "    \"\"\"Print request rate consistency. This measures the qualtiy of the test.\"\"\"\n",
    "    for name, df in dfs.items():\n",
    "        starts = df.sort_values(\"start\")[[\"rate\", \"start\"]]\n",
    "        diffqs = {}\n",
    "        for rate in df['rate'].unique():\n",
    "            diff = df[df[\"rate\"] == rate].sort_values(\"start\")[\"start\"].diff()\n",
    "            q = diff.quantile(0.5)\n",
    "            diffqs[rate] = (round(q, 5), round(1/rate, 3), round(abs(q - 1/rate), 5))\n",
    "        plt.plot(diffqs.keys(), [x[-1] for x in diffqs.values()], label=name)\n",
    "    plt.title(\"Deviation from ideal request frequency\")\n",
    "    plt.xlabel(\"Rate (requests/s)\")\n",
    "    plt.ylabel(\"Deviation (s)\")"
   ]
  },
  {
   "cell_type": "code",
   "execution_count": null,
   "metadata": {},
   "outputs": [],
   "source": [
    "w1 = {\n",
    "    \"no batching\": read(\"v100-w1\"), \n",
    "    \"t = 25ms\": read(\"v100-b-t25-w1\"),\n",
    "    \"t = 50ms\": read(\"v100-b-t50-w1\"), \n",
    "    \"t = 100ms\": read(\"v100-b-t100-w1\"),\n",
    "    \"t = 200ms\": read(\"v100-b-t200-w1\"),\n",
    "}\n",
    "quantile_plot(w1)\n",
    "plt.title(\"Median Latency of ResNet50 on V100\", fontsize=18);"
   ]
  }
 ],
 "metadata": {
  "kernelspec": {
   "display_name": "Python 3",
   "language": "python",
   "name": "python3"
  },
  "language_info": {
   "codemirror_mode": {
    "name": "ipython",
    "version": 3
   },
   "file_extension": ".py",
   "mimetype": "text/x-python",
   "name": "python",
   "nbconvert_exporter": "python",
   "pygments_lexer": "ipython3",
   "version": "3.8.5"
  }
 },
 "nbformat": 4,
 "nbformat_minor": 4
}